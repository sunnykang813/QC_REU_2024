{
 "cells": [
  {
   "cell_type": "code",
   "execution_count": 1,
   "metadata": {},
   "outputs": [],
   "source": [
    "import numpy as np\n",
    "import matplotlib.pyplot as plt\n",
    "from qiskit.visualization import plot_distribution\n",
    "from qiskit_experiments.library import CorrelatedReadoutError\n",
    "from qiskit.result import CorrelatedReadoutMitigator\n",
    "from qiskit_aer import AerSimulator\n",
    "\n",
    "from qiskit_ibm_provider import IBMProvider\n",
    "from qiskit_ibm_runtime import QiskitRuntimeService\n",
    "from qiskit.primitives import BackendSampler"
   ]
  },
  {
   "cell_type": "code",
   "execution_count": 2,
   "metadata": {},
   "outputs": [],
   "source": [
    "# Run only once to save the account\n",
    "# IBMProvider.save_account(token='', overwrite=True)"
   ]
  },
  {
   "cell_type": "code",
   "execution_count": 3,
   "metadata": {},
   "outputs": [],
   "source": [
    "# Connect to the IBM's Quantum backend\n",
    "provider = IBMProvider()\n",
    "backend = provider.get_backend('ibm_sherbrooke')\n",
    "sampler = BackendSampler(backend)"
   ]
  },
  {
   "cell_type": "code",
   "execution_count": 4,
   "metadata": {},
   "outputs": [],
   "source": [
    "# Set up a local simulator that mimics the real backend\n",
    "# service = QiskitRuntimeService()\n",
    "# real_backend = service.backend(\"ibm_sherbrooke\")\n",
    "# sampler = AerSimulator.from_backend(real_backend)"
   ]
  },
  {
   "cell_type": "code",
   "execution_count": 5,
   "metadata": {},
   "outputs": [],
   "source": [
    "# check for active account\n",
    "provider.active_account()"
   ]
  },
  {
   "cell_type": "markdown",
   "metadata": {},
   "source": [
    "MITIGATION EXPERIMENT SETUP"
   ]
  },
  {
   "cell_type": "code",
   "execution_count": 6,
   "metadata": {},
   "outputs": [
    {
     "name": "stdout",
     "output_type": "stream",
     "text": [
      "         ░ ┌─┐   \n",
      "   q_0: ─░─┤M├───\n",
      "         ░ └╥┘┌─┐\n",
      "   q_1: ─░──╫─┤M├\n",
      "         ░  ║ └╥┘\n",
      "meas: 2/════╩══╩═\n",
      "            0  1 \n",
      "        ┌───┐ ░ ┌─┐   \n",
      "   q_0: ┤ X ├─░─┤M├───\n",
      "        └───┘ ░ └╥┘┌─┐\n",
      "   q_1: ──────░──╫─┤M├\n",
      "              ░  ║ └╥┘\n",
      "meas: 2/═════════╩══╩═\n",
      "                 0  1 \n",
      "              ░ ┌─┐   \n",
      "   q_0: ──────░─┤M├───\n",
      "        ┌───┐ ░ └╥┘┌─┐\n",
      "   q_1: ┤ X ├─░──╫─┤M├\n",
      "        └───┘ ░  ║ └╥┘\n",
      "meas: 2/═════════╩══╩═\n",
      "                 0  1 \n",
      "        ┌───┐ ░ ┌─┐   \n",
      "   q_0: ┤ X ├─░─┤M├───\n",
      "        ├───┤ ░ └╥┘┌─┐\n",
      "   q_1: ┤ X ├─░──╫─┤M├\n",
      "        └───┘ ░  ║ └╥┘\n",
      "meas: 2/═════════╩══╩═\n",
      "                 0  1 \n",
      "         ░ ┌─┐   \n",
      "   q_0: ─░─┤M├───\n",
      "         ░ └╥┘┌─┐\n",
      "   q_1: ─░──╫─┤M├\n",
      "         ░  ║ └╥┘\n",
      "meas: 2/════╩══╩═\n",
      "            0  1 \n",
      "        ┌───┐ ░ ┌─┐   \n",
      "   q_0: ┤ X ├─░─┤M├───\n",
      "        └───┘ ░ └╥┘┌─┐\n",
      "   q_1: ──────░──╫─┤M├\n",
      "              ░  ║ └╥┘\n",
      "meas: 2/═════════╩══╩═\n",
      "                 0  1 \n",
      "              ░ ┌─┐   \n",
      "   q_0: ──────░─┤M├───\n",
      "        ┌───┐ ░ └╥┘┌─┐\n",
      "   q_1: ┤ X ├─░──╫─┤M├\n",
      "        └───┘ ░  ║ └╥┘\n",
      "meas: 2/═════════╩══╩═\n",
      "                 0  1 \n",
      "        ┌───┐ ░ ┌─┐   \n",
      "   q_0: ┤ X ├─░─┤M├───\n",
      "        ├───┤ ░ └╥┘┌─┐\n",
      "   q_1: ┤ X ├─░──╫─┤M├\n",
      "        └───┘ ░  ║ └╥┘\n",
      "meas: 2/═════════╩══╩═\n",
      "                 0  1 \n"
     ]
    }
   ],
   "source": [
    "# Set up the mitigation experiment\n",
    "qubits = [0,1]\n",
    "num_qubits = len(qubits)\n",
    "exp1 = CorrelatedReadoutError(qubits)\n",
    "exp2 = CorrelatedReadoutError(qubits)\n",
    "\n",
    "# Print mitigation experiment circuits\n",
    "for c in exp1.circuits():\n",
    "    print(c)\n",
    "\n",
    "for c in exp2.circuits():\n",
    "    print(c)"
   ]
  },
  {
   "cell_type": "markdown",
   "metadata": {},
   "source": [
    "MZI EXPERIMENT SETUP\n"
   ]
  },
  {
   "cell_type": "code",
   "execution_count": 7,
   "metadata": {},
   "outputs": [],
   "source": [
    "from qiskit import QuantumCircuit, QuantumRegister, ClassicalRegister, transpile\n",
    "from qiskit.circuit import Parameter"
   ]
  },
  {
   "cell_type": "code",
   "execution_count": 8,
   "metadata": {},
   "outputs": [],
   "source": [
    "# Define constants & parameters\n",
    "pi = np.pi\n",
    "phi_R = Parameter('phi_R')\n",
    "phi_S = Parameter('phi_S')"
   ]
  },
  {
   "cell_type": "code",
   "execution_count": 9,
   "metadata": {},
   "outputs": [
    {
     "data": {
      "text/plain": [
       "<qiskit.circuit.instructionset.InstructionSet at 0x289028a00>"
      ]
     },
     "execution_count": 9,
     "metadata": {},
     "output_type": "execute_result"
    }
   ],
   "source": [
    "# Create quantum registers & classical bits\n",
    "qr_photon = QuantumRegister(1, 'path')\n",
    "qr_polarizer = QuantumRegister(1, 'polarization')\n",
    "cr_detector = ClassicalRegister(1, 'detector')\n",
    "cr_polarizer = ClassicalRegister(1, 'polarizer')\n",
    "\n",
    "# Create a quantum circuit \n",
    "qc = QuantumCircuit(qr_photon, qr_polarizer, cr_polarizer, cr_detector)\n",
    "\n",
    "# Polarization BS, creates a superposition and an entanglement with the polarization qubit\n",
    "qc.h(0)\n",
    "qc.cx(0,1)\n",
    "\n",
    "# Phase shift by total of 2π due to the mirrors\n",
    "# qc.p(pi*2,0)\n",
    "\n",
    "# Phase shifts by (φ_S - φ_R) due to the lengths\n",
    "qc.rz(phi_R-phi_S,0)\n",
    "\n",
    "# 2nd BS and a phase shift by π\n",
    "qc.x(0)\n",
    "qc.h(0)\n",
    "qc.x(0)\n",
    "\n",
    "# photon goes through the polarizing erasers \n",
    "qc.barrier()\n",
    "qc.h(1)\n",
    "\n",
    "# Measurement \n",
    "qc.measure([0,1], [1,0])\n",
    "\n",
    "# Draw & save the circuit\n",
    "circuit_image = qc.draw('mpl')\n",
    "circuit_image.savefig(\"3.Single_PBS_w_Eraser_circuit.png\", dpi=300)\n",
    "qc.draw('mpl')"
   ]
  },
  {
   "cell_type": "code",
   "execution_count": 10,
   "metadata": {},
   "outputs": [],
   "source": [
    "# Transpile the circuit\n",
    "qc_trans = transpile(qc, backend)"
   ]
  },
  {
   "cell_type": "markdown",
   "metadata": {},
   "source": [
    "COMBINE CIRCUITS"
   ]
  },
  {
   "cell_type": "code",
   "execution_count": 11,
   "metadata": {},
   "outputs": [],
   "source": [
    "# Define # of shots for mitigation/qc runs\n",
    "shots = 8192 # 2^13"
   ]
  },
  {
   "cell_type": "code",
   "execution_count": 12,
   "metadata": {},
   "outputs": [
    {
     "name": "stdout",
     "output_type": "stream",
     "text": [
      "41\n"
     ]
    }
   ],
   "source": [
    "bound_qc = [] \n",
    "exp1_qc = []\n",
    "exp2_qc = []\n",
    "\n",
    "# Add the mitigation exp circuits in the list prior to the MZI circuits\n",
    "for i in range(2**num_qubits):\n",
    "    exp1_qc.append(exp1.circuits()[i])\n",
    "\n",
    "# Assign phase shift params from 0 to 2π & add the MZI circuits in the list\n",
    "for i in range(33):\n",
    "    param_values = {phi_S: 0, phi_R: (pi/16)*i}\n",
    "    bound_qc.append(qc_trans.assign_parameters(param_values))\n",
    "\n",
    "# Add the mitigation exp circuits in the list after the MZI circuits\n",
    "for i in range(2**num_qubits):\n",
    "    exp2_qc.append(exp2.circuits()[i])\n",
    "\n",
    "# Combine all the circuits\n",
    "all_qc = exp1_qc + bound_qc + exp2_qc\n",
    "print(len(all_qc)) # Should be 41 in total = 4 prior mitigation circ + 33 MZI circ + 4 post mitigation circ"
   ]
  },
  {
   "cell_type": "markdown",
   "metadata": {},
   "source": [
    "RUN THE EXPERIMENT"
   ]
  },
  {
   "cell_type": "code",
   "execution_count": 13,
   "metadata": {},
   "outputs": [],
   "source": [
    "# Run on the real backend \n",
    "# job = sampler.run(all_qc, shots=shots)\n",
    "# print(job.job_id())"
   ]
  },
  {
   "cell_type": "markdown",
   "metadata": {},
   "source": [
    "RETRIEVE THE JOB"
   ]
  },
  {
   "cell_type": "code",
   "execution_count": 14,
   "metadata": {},
   "outputs": [],
   "source": [
    "# Define job id & retreive the job\n",
    "job_id = 'ct2t2zkmqj7g008zyg7g'\n",
    "job = QiskitRuntimeService().job(job_id)\n",
    "result = job.result()"
   ]
  },
  {
   "cell_type": "code",
   "execution_count": 15,
   "metadata": {},
   "outputs": [],
   "source": [
    "# Get Mitigation experitment results\n",
    "exp1_results = [result.get_counts()[i] for i in range(2**num_qubits)]\n",
    "exp2_results = [result.get_counts()[2**num_qubits+len(bound_qc)+i] for i in range(2**num_qubits)]\n",
    "\n",
    "\n",
    "# Takes in mitigation experiment results and contructs a assignment matrix\n",
    "# Returns an assignment matrix\n",
    "def generate_assignment_matrix(exp_results):\n",
    "    state_labels = ['00','01', '10', '11']\n",
    "    assignment_matrix = np.zeros((2**num_qubits, 2**num_qubits))\n",
    "    for state_idx, state in enumerate(state_labels):\n",
    "        counts = exp_results[state_idx]\n",
    "        for measured_state, count in counts.items():\n",
    "            measured_idx = state_labels.index(measured_state)\n",
    "            assignment_matrix[measured_idx, state_idx] = count / shots\n",
    "    return assignment_matrix\n",
    "\n",
    "# Construct mitigator objects\n",
    "mitigator1 = CorrelatedReadoutMitigator(assignment_matrix=generate_assignment_matrix(exp1_results))\n",
    "mitigator2 = CorrelatedReadoutMitigator(assignment_matrix=generate_assignment_matrix(exp2_results))\n",
    "\n",
    "# Get unmitigated counts\n",
    "unmitigated_counts = [result.get_counts()[2**num_qubits+i] for i in range(len(bound_qc))]"
   ]
  },
  {
   "cell_type": "markdown",
   "metadata": {},
   "source": [
    "SAVE DATA AS A CSV FILE"
   ]
  },
  {
   "cell_type": "code",
   "execution_count": 20,
   "metadata": {},
   "outputs": [],
   "source": [
    "# import pandas as pd\n",
    "\n",
    "# # Convert the counts to a pandas DataFrame\n",
    "# exp1_df = pd.DataFrame(exp1_results)\n",
    "# exp2_df = pd.DataFrame(exp1_results)\n",
    "# counts_df = pd.DataFrame(unmitigated_counts)\n",
    "\n",
    "# # Add a column for the circuit number\n",
    "# exp1_df['Circuit Number'] = range(1, len(exp1_df) + 1)\n",
    "# exp2_df['Circuit Number'] = range(1, len(exp2_df) + 1)\n",
    "# counts_df['Circuit Number'] = range(1, len(counts_df) + 1)\n",
    "\n",
    "# # Reorder the columns so that 'Circuit Number' comes first\n",
    "# exp1_df = exp1_df[['Circuit Number', '00', '01', '10', '11']]\n",
    "# exp2_df = exp2_df[['Circuit Number', '00', '01', '10', '11']]\n",
    "# counts_df = counts_df[['Circuit Number', '0 0', '0 1', '1 0', '1 1']]\n",
    "\n",
    "# # Save the DataFrame to a CSV file\n",
    "# exp1_df.to_csv('3.pre_mitigation_circ_count.csv', index=False)\n",
    "# exp2_df.to_csv('3.post_mitigation_circ_count.csv', index=False)\n",
    "# counts_df.to_csv('3.MZI_circ_counts.csv', index=False)"
   ]
  },
  {
   "cell_type": "markdown",
   "metadata": {},
   "source": [
    "DEFINE TWO MITIGATION METHODS"
   ]
  },
  {
   "cell_type": "code",
   "execution_count": 21,
   "metadata": {},
   "outputs": [],
   "source": [
    "# Takes in a mitigator index (mitigaor1 for pre-mitigator, mitigaor2 for post-mitigator)  \n",
    "# Calculates unmitigated probailities, mitigated quasi-probabilities\n",
    "# Calculates mitigated probabilities with quasi-probabilites on L2 norm\n",
    "# Calculates mitigated counts\n",
    "def mitigation_method_1(mitigator):\n",
    "    unmitigated_probs, mitigated_quasi_probs, mitigated_probs, mitigated_counts = [], [], [], []\n",
    "    for i in range(len(bound_qc)):\n",
    "        unmitigated_probs.append({state: count/shots for (state, count) in unmitigated_counts[i].items()})\n",
    "        mitigated_quasi_probs.append(mitigator.quasi_probabilities(unmitigated_counts[i]))\n",
    "        mitigated_probs.append(mitigated_quasi_probs[i].nearest_probability_distribution().binary_probabilities())\n",
    "        mitigated_counts.append({label: round(prob*shots) for (label, prob) in mitigated_probs[i].items()})\n",
    "    return unmitigated_probs, mitigated_probs, mitigated_counts\n",
    "\n",
    "\n",
    "# Takes in a mitigator index (mitigaor1 for pre-mitigator, mitigaor2 for post-mitigator) \n",
    "# Calculates unmitigated probailities\n",
    "# Calculates mitigated quasi-counts by multiplication with inv confusion matrix\n",
    "# Calculates mitigated counts by throwing away negative counts\n",
    "# Calculates mitigated probabilites by re-normalizing with new shots #\n",
    "def mitigation_method_2(mitigator):\n",
    "    unmitigated_probs, mitigated_probs, mitigated_counts = [], [], []\n",
    "    for i in range(len(bound_qc)):\n",
    "        unmitigated_probs.append({state: count/shots for (state, count) in unmitigated_counts[i].items()})\n",
    "        # Creates a column vector of the counts\n",
    "        vec_count = np.array([unmitigated_counts[i]['0 0'], unmitigated_counts[i]['0 1'], unmitigated_counts[i]['1 0'], unmitigated_counts[i]['1 1']])[:, np.newaxis]\n",
    "        mitigated_quasi_count = np.dot(mitigator.mitigation_matrix(),vec_count)\n",
    "        # if either count is negative, set it to 0 and calculate the total count\n",
    "        total_count = 0\n",
    "        for i in range(len(vec_count)):\n",
    "            if mitigated_quasi_count[i] < 0 :mitigated_quasi_count[i] = 0\n",
    "            total_count += mitigated_quasi_count[i]\n",
    "        # Define dictionaries\n",
    "        dict_count = {\n",
    "            '00': mitigated_quasi_count[0].item(),\n",
    "            '01': mitigated_quasi_count[1].item(),\n",
    "            '10': mitigated_quasi_count[2].item(),\n",
    "            '11': mitigated_quasi_count[3].item()\n",
    "        }\n",
    "        dict_prob = {\n",
    "            '00': (mitigated_quasi_count[0]/total_count).item(),\n",
    "            '01': (mitigated_quasi_count[1]/total_count).item(),\n",
    "            '10': (mitigated_quasi_count[2]/total_count).item(),\n",
    "            '11': (mitigated_quasi_count[3]/total_count).item()\n",
    "        }\n",
    "        mitigated_counts.append(dict_count)\n",
    "        mitigated_probs.append(dict_prob)\n",
    "    return unmitigated_probs, mitigated_probs, mitigated_counts  "
   ]
  },
  {
   "cell_type": "code",
   "execution_count": 22,
   "metadata": {},
   "outputs": [
    {
     "name": "stdout",
     "output_type": "stream",
     "text": [
      "Unmitigated Counts: \n",
      "{'1 1': 87, '1 0': 3964, '0 1': 3828, '0 0': 313}\n",
      "Mitigated Counts: \n",
      "{'11': 9, '10': 4058, '01': 4124}\n",
      "\n",
      "Unmitigated Prob: \n",
      "{'1 1': 0.0106201171875, '1 0': 0.48388671875, '0 1': 0.46728515625, '0 0': 0.0382080078125}\n",
      "Mitigated Prob: \n",
      "{'11': 0.0011556867114761475, '10': 0.49536883364221607, '01': 0.5034754796463077}\n"
     ]
    },
    {
     "data": {
      "image/png": "[encoded data removed]",
      "text/plain": [
       "<Figure size 700x500 with 1 Axes>"
      ]
     },
     "execution_count": 22,
     "metadata": {},
     "output_type": "execute_result"
    }
   ],
   "source": [
    "# Pick a mitigation_method (method_1 = least_squares, method_2 = throwaway zeros)\n",
    "# Parameter: 0 for pre-mitigator, 1 for post-mitigator\n",
    "unmitigated_probs, mitigated_probs, mitigated_counts = mitigation_method_1(mitigator1)\n",
    "\n",
    "# Index of a circuit [0~32: 0=0π, 16=π, 32=2π]\n",
    "i = 0\n",
    "\n",
    "# Print unmitigated & mitigated counts and plot \n",
    "print(\"Unmitigated Counts: \")\n",
    "print(unmitigated_counts[i]) \n",
    "print(\"Mitigated Counts: \")\n",
    "print(mitigated_counts[i])\n",
    "print(\"\")\n",
    "print(\"Unmitigated Prob: \")\n",
    "print(unmitigated_probs[i])\n",
    "print(\"Mitigated Prob: \")\n",
    "print(mitigated_probs[i])\n",
    "\n",
    "legend = ['Mitigated Probabilities','Unimitigated Probabilities']\n",
    "plot_distribution([mitigated_probs[i], unmitigated_probs[i]], legend=legend)"
   ]
  },
  {
   "cell_type": "markdown",
   "metadata": {},
   "source": [
    "SCATTER PLOT OVER ALL ANGLES"
   ]
  },
  {
   "cell_type": "code",
   "execution_count": 38,
   "metadata": {},
   "outputs": [
    {
     "data": {
      "image/png": "[encoded data removed]",
      "text/plain": [
       "<Figure size 640x480 with 1 Axes>"
      ]
     },
     "metadata": {},
     "output_type": "display_data"
    }
   ],
   "source": [
    "# Extract x, y data \n",
    "x_eraser = [(pi/16)*i for i in range(len(mitigated_probs))]\n",
    "y_0_eraser = [d.get('00', 0) for d in mitigated_probs]\n",
    "y_1_eraser = [d.get('01', 0) for d in mitigated_probs]\n",
    "\n",
    "# Calculate standard error (SE = sqrt(p(1-p)/n)) measures how much the probability varies from the true probability.\n",
    "y_err_eraser = [np.sqrt(y_0_eraser[i] * y_1_eraser[i]/(mitigated_counts[i].get('00',0) + mitigated_counts[i].get('01',0)))*1.96 for i in range (len(mitigated_probs))]\n",
    "\n",
    "# Theoretical graphs\n",
    "theta = np.linspace(0, 2*np.pi, 1000)\n",
    "cos_squared = 0.5*np.cos(theta/2)**2\n",
    "plt.plot(theta, cos_squared, color='orange', alpha=0.4, linewidth = 2)\n",
    "sin_squared = 0.5*np.sin(theta/2)**2\n",
    "plt.plot(theta, sin_squared, color='blue', alpha=0.3,linewidth = 2)\n",
    "\n",
    "# Create a scatter a scatter plot\n",
    "plt.errorbar(x_eraser, y_0_eraser, yerr=y_err_eraser, capsize=1.7, linestyle=\"none\")\n",
    "plt.errorbar(x_eraser, y_1_eraser, yerr=y_err_eraser, capsize=1.7, linestyle=\"none\")\n",
    "plt.scatter(x_eraser,y_0_eraser, color='blue', label='0 (dark)', marker=\"_\", linewidths=1)\n",
    "plt.scatter(x_eraser,y_1_eraser, color='orange', label='1 (bright)', marker=\"_\", linewidths=1)\n",
    "\n",
    "plt.xlabel('Phase Difference (radians)', size = 15)\n",
    "tick_positions = [(pi/2)*i for i in range(5)]\n",
    "tick_labels = ['0', 'π/2' , 'π', '3π/2', '2π']\n",
    "plt.xticks(tick_positions, tick_labels, fontsize = 14)\n",
    "plt.ylim(0,0.75)\n",
    "plt.yticks(fontsize = 14)\n",
    "plt.ylabel('Mitigated Probability', size = 15)\n",
    "plt.annotate('1 (bright)', xy=(pi/4, 0.4), xytext=(pi/7, 0.3),\n",
    "             arrowprops=dict(facecolor='orange', edgecolor=\"orange\", arrowstyle='->'),\n",
    "             fontsize=13, ha='center', color = \"orange\")\n",
    "plt.annotate('0 (dark)', xy=(pi/4, 0.15), xytext=(pi/7, 0.23),\n",
    "             arrowprops=dict(facecolor='blue', edgecolor=\"blue\", arrowstyle='->'),\n",
    "             fontsize=13, ha='center', color = \"blue\")\n",
    "plt.savefig(\"3.Single_PBS_w_Eraser_result.png\", dpi=300)"
   ]
  },
  {
   "cell_type": "code",
   "execution_count": null,
   "metadata": {},
   "outputs": [],
   "source": []
  }
 ],
 "metadata": {
  "kernelspec": {
   "display_name": "2024_QC_REU",
   "language": "python",
   "name": "python3"
  },
  "language_info": {
   "codemirror_mode": {
    "name": "ipython",
    "version": 3
   },
   "file_extension": ".py",
   "mimetype": "text/x-python",
   "name": "python",
   "nbconvert_exporter": "python",
   "pygments_lexer": "ipython3",
   "version": "3.12.4"
  }
 },
 "nbformat": 4,
 "nbformat_minor": 2
}
